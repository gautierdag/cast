{
 "cells": [
  {
   "cell_type": "code",
   "execution_count": 22,
   "metadata": {},
   "outputs": [
    {
     "name": "stdout",
     "output_type": "stream",
     "text": [
      "run-mazvi7la-evaluated_statements:v0\n"
     ]
    },
    {
     "name": "stderr",
     "output_type": "stream",
     "text": [
      "\u001b[34m\u001b[1mwandb\u001b[0m:   1 of 1 files downloaded.  \n"
     ]
    }
   ],
   "source": [
    "import wandb\n",
    "import json\n",
    "import pandas as pd\n",
    "\n",
    "project = \"consistency\"\n",
    "entity = \"itl\"\n",
    "\n",
    "api = wandb.Api()\n",
    "runs = api.runs(f\"{entity}/{project}\")\n",
    "\n",
    "dfs = []\n",
    "# download all tables\n",
    "for run in runs:\n",
    "    artifacts = run.logged_artifacts()\n",
    "    for artifact in artifacts:\n",
    "        print(artifact.name)\n",
    "        table_dir = artifact.download()\n",
    "        table_path = f\"{table_dir}/evaluated_statements.table.json\"\n",
    "        with open(table_path) as file:\n",
    "            json_dict = json.load(file)\n",
    "        df = pd.DataFrame(json_dict[\"data\"], columns=json_dict[\"columns\"])\n",
    "        df[\"model\"] = run.name\n",
    "        dfs.append(df)\n",
    "\n",
    "df = pd.concat(dfs)"
   ]
  },
  {
   "cell_type": "code",
   "execution_count": 27,
   "metadata": {},
   "outputs": [],
   "source": [
    "def parse_validator(x):\n",
    "    if \"both\" in x.lower():\n",
    "        return \"both\"\n",
    "    elif \"one\" in x.lower():\n",
    "        return \"one\"\n",
    "    else:\n",
    "        return \"unknown\"\n",
    "\n",
    "df[\"eval_text_val\"] = df[\"eval_text\"].apply(parse_validator) == \"both\"\n",
    "df[\"eval_image_val\"] = df[\"eval_image\"].apply(parse_validator) == \"both\"\n",
    "df[\"eval_both_val\"] = df[\"eval_both\"].apply(parse_validator) == \"both\""
   ]
  },
  {
   "cell_type": "code",
   "execution_count": 29,
   "metadata": {},
   "outputs": [
    {
     "data": {
      "text/html": [
       "<div>\n",
       "<style scoped>\n",
       "    .dataframe tbody tr th:only-of-type {\n",
       "        vertical-align: middle;\n",
       "    }\n",
       "\n",
       "    .dataframe tbody tr th {\n",
       "        vertical-align: top;\n",
       "    }\n",
       "\n",
       "    .dataframe thead th {\n",
       "        text-align: right;\n",
       "    }\n",
       "</style>\n",
       "<table border=\"1\" class=\"dataframe\">\n",
       "  <thead>\n",
       "    <tr style=\"text-align: right;\">\n",
       "      <th></th>\n",
       "      <th>eval_text_val</th>\n",
       "      <th>eval_image_val</th>\n",
       "      <th>eval_both_val</th>\n",
       "    </tr>\n",
       "    <tr>\n",
       "      <th>generated_with</th>\n",
       "      <th></th>\n",
       "      <th></th>\n",
       "      <th></th>\n",
       "    </tr>\n",
       "  </thead>\n",
       "  <tbody>\n",
       "    <tr>\n",
       "      <th>both</th>\n",
       "      <td>0.810078</td>\n",
       "      <td>0.779070</td>\n",
       "      <td>0.986434</td>\n",
       "    </tr>\n",
       "    <tr>\n",
       "      <th>image</th>\n",
       "      <td>0.757170</td>\n",
       "      <td>0.873805</td>\n",
       "      <td>0.961759</td>\n",
       "    </tr>\n",
       "    <tr>\n",
       "      <th>text</th>\n",
       "      <td>0.901804</td>\n",
       "      <td>0.783567</td>\n",
       "      <td>0.995992</td>\n",
       "    </tr>\n",
       "  </tbody>\n",
       "</table>\n",
       "</div>"
      ],
      "text/plain": [
       "                eval_text_val  eval_image_val  eval_both_val\n",
       "generated_with                                              \n",
       "both                 0.810078        0.779070       0.986434\n",
       "image                0.757170        0.873805       0.961759\n",
       "text                 0.901804        0.783567       0.995992"
      ]
     },
     "execution_count": 29,
     "metadata": {},
     "output_type": "execute_result"
    }
   ],
   "source": [
    "df.groupby(\"generated_with\").agg(\n",
    "    {\"eval_text_val\": \"mean\", \"eval_image_val\": \"mean\", \"eval_both_val\": \"mean\"}\n",
    ")"
   ]
  }
 ],
 "metadata": {
  "kernelspec": {
   "display_name": "Python 3",
   "language": "python",
   "name": "python3"
  },
  "language_info": {
   "codemirror_mode": {
    "name": "ipython",
    "version": 3
   },
   "file_extension": ".py",
   "mimetype": "text/x-python",
   "name": "python",
   "nbconvert_exporter": "python",
   "pygments_lexer": "ipython3",
   "version": "3.10.12"
  }
 },
 "nbformat": 4,
 "nbformat_minor": 2
}
